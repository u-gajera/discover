{
 "cells": [
  {
   "cell_type": "markdown",
   "id": "e6dcecad",
   "metadata": {},
   "source": [
    "# Replicating SISSO++ Descriptor Discovery with **pySISSO**\n",
    "\n",
    "This notebook reproduces the descriptor discovery benchmark that compares Rocksalt (RS) and Zincblende (ZB) structural stability in 82 octet binary compounds, originally performed with **SISSO++**. Here we replicate the benchmark using the Python implementation **pySISSO**.\n",
    "\n",
    "**Requirements**  \n",
    "- `pysisso` (>=0.4) – `pip install pysisso`  \n",
    "- `pandas`, `numpy`, `scikit-learn`, `nbformat` (common scientific stack)\n",
    "\n",
    "Place the dataset `benchmark_data.csv` in the same folder as this notebook or adjust the path below.\n"
   ]
  },
  {
   "cell_type": "markdown",
   "id": "b740bf0d",
   "metadata": {},
   "source": [
    "## 1. Load and inspect the dataset"
   ]
  },
  {
   "cell_type": "code",
   "execution_count": 3,
   "id": "09f698dd",
   "metadata": {},
   "outputs": [
    {
     "name": "stdout",
     "output_type": "stream",
     "text": [
      "✅ 'src' directory added to Python path. You can now import pysisso.\n"
     ]
    }
   ],
   "source": [
    "import sys\n",
    "import os\n",
    "\n",
    "# Add the 'src' directory to the Python path\n",
    "# This tells Python where to look for the 'pysisso' module\n",
    "sys.path.insert(0, os.path.abspath('./src'))\n",
    "\n",
    "# Now your original imports will work\n",
    "import pandas as pd\n",
    "import numpy as np\n",
    "import matplotlib.pyplot as plt\n",
    "import warnings\n",
    "\n",
    "from pysisso import SISSORegressor\n",
    "\n",
    "# Set display options\n",
    "warnings.filterwarnings('ignore')\n",
    "pd.set_option('display.max_rows', 100)\n",
    "%matplotlib inline\n",
    "\n",
    "print(\"✅ 'src' directory added to Python path. You can now import pysisso.\")"
   ]
  },
  {
   "cell_type": "markdown",
   "id": "4f9f954d",
   "metadata": {},
   "source": [
    "### Define target and feature columns"
   ]
  },
  {
   "cell_type": "code",
   "execution_count": 4,
   "id": "6a2411e0",
   "metadata": {},
   "outputs": [
    {
     "ename": "KeyError",
     "evalue": "\"['Total_Energy'] not in index\"",
     "output_type": "error",
     "traceback": [
      "\u001b[31m---------------------------------------------------------------------------\u001b[39m",
      "\u001b[31mKeyError\u001b[39m                                  Traceback (most recent call last)",
      "\u001b[36mCell\u001b[39m\u001b[36m \u001b[39m\u001b[32mIn[4]\u001b[39m\u001b[32m, line 23\u001b[39m\n\u001b[32m     20\u001b[39m PRIMARY_FEATURES = [f \u001b[38;5;28;01mfor\u001b[39;00m f \u001b[38;5;129;01min\u001b[39;00m PRIMARY_FEATURES \u001b[38;5;28;01mif\u001b[39;00m f \u001b[38;5;129;01min\u001b[39;00m data.columns]\n\u001b[32m     22\u001b[39m X = data[PRIMARY_FEATURES]\n\u001b[32m---> \u001b[39m\u001b[32m23\u001b[39m y = data[TARGET_PROPERTIES]\n\u001b[32m     25\u001b[39m \u001b[38;5;28mprint\u001b[39m(\u001b[33mf\u001b[39m\u001b[33m\"\u001b[39m\u001b[38;5;130;01m\\n\u001b[39;00m\u001b[33mDataset prepared for Multi-Task Regression.\u001b[39m\u001b[33m\"\u001b[39m)\n\u001b[32m     26\u001b[39m \u001b[38;5;28mprint\u001b[39m(\u001b[33mf\u001b[39m\u001b[33m\"\u001b[39m\u001b[33mNumber of samples: \u001b[39m\u001b[38;5;132;01m{\u001b[39;00m\u001b[38;5;28mlen\u001b[39m(data)\u001b[38;5;132;01m}\u001b[39;00m\u001b[33m\"\u001b[39m)\n",
      "\u001b[36mFile \u001b[39m\u001b[32m~/miniconda3/envs/jupyter_minimal/lib/python3.11/site-packages/pandas/core/frame.py:4108\u001b[39m, in \u001b[36mDataFrame.__getitem__\u001b[39m\u001b[34m(self, key)\u001b[39m\n\u001b[32m   4106\u001b[39m     \u001b[38;5;28;01mif\u001b[39;00m is_iterator(key):\n\u001b[32m   4107\u001b[39m         key = \u001b[38;5;28mlist\u001b[39m(key)\n\u001b[32m-> \u001b[39m\u001b[32m4108\u001b[39m     indexer = \u001b[38;5;28mself\u001b[39m.columns._get_indexer_strict(key, \u001b[33m\"\u001b[39m\u001b[33mcolumns\u001b[39m\u001b[33m\"\u001b[39m)[\u001b[32m1\u001b[39m]\n\u001b[32m   4110\u001b[39m \u001b[38;5;66;03m# take() does not accept boolean indexers\u001b[39;00m\n\u001b[32m   4111\u001b[39m \u001b[38;5;28;01mif\u001b[39;00m \u001b[38;5;28mgetattr\u001b[39m(indexer, \u001b[33m\"\u001b[39m\u001b[33mdtype\u001b[39m\u001b[33m\"\u001b[39m, \u001b[38;5;28;01mNone\u001b[39;00m) == \u001b[38;5;28mbool\u001b[39m:\n",
      "\u001b[36mFile \u001b[39m\u001b[32m~/miniconda3/envs/jupyter_minimal/lib/python3.11/site-packages/pandas/core/indexes/base.py:6200\u001b[39m, in \u001b[36mIndex._get_indexer_strict\u001b[39m\u001b[34m(self, key, axis_name)\u001b[39m\n\u001b[32m   6197\u001b[39m \u001b[38;5;28;01melse\u001b[39;00m:\n\u001b[32m   6198\u001b[39m     keyarr, indexer, new_indexer = \u001b[38;5;28mself\u001b[39m._reindex_non_unique(keyarr)\n\u001b[32m-> \u001b[39m\u001b[32m6200\u001b[39m \u001b[38;5;28mself\u001b[39m._raise_if_missing(keyarr, indexer, axis_name)\n\u001b[32m   6202\u001b[39m keyarr = \u001b[38;5;28mself\u001b[39m.take(indexer)\n\u001b[32m   6203\u001b[39m \u001b[38;5;28;01mif\u001b[39;00m \u001b[38;5;28misinstance\u001b[39m(key, Index):\n\u001b[32m   6204\u001b[39m     \u001b[38;5;66;03m# GH 42790 - Preserve name from an Index\u001b[39;00m\n",
      "\u001b[36mFile \u001b[39m\u001b[32m~/miniconda3/envs/jupyter_minimal/lib/python3.11/site-packages/pandas/core/indexes/base.py:6252\u001b[39m, in \u001b[36mIndex._raise_if_missing\u001b[39m\u001b[34m(self, key, indexer, axis_name)\u001b[39m\n\u001b[32m   6249\u001b[39m     \u001b[38;5;28;01mraise\u001b[39;00m \u001b[38;5;167;01mKeyError\u001b[39;00m(\u001b[33mf\u001b[39m\u001b[33m\"\u001b[39m\u001b[33mNone of [\u001b[39m\u001b[38;5;132;01m{\u001b[39;00mkey\u001b[38;5;132;01m}\u001b[39;00m\u001b[33m] are in the [\u001b[39m\u001b[38;5;132;01m{\u001b[39;00maxis_name\u001b[38;5;132;01m}\u001b[39;00m\u001b[33m]\u001b[39m\u001b[33m\"\u001b[39m)\n\u001b[32m   6251\u001b[39m not_found = \u001b[38;5;28mlist\u001b[39m(ensure_index(key)[missing_mask.nonzero()[\u001b[32m0\u001b[39m]].unique())\n\u001b[32m-> \u001b[39m\u001b[32m6252\u001b[39m \u001b[38;5;28;01mraise\u001b[39;00m \u001b[38;5;167;01mKeyError\u001b[39;00m(\u001b[33mf\u001b[39m\u001b[33m\"\u001b[39m\u001b[38;5;132;01m{\u001b[39;00mnot_found\u001b[38;5;132;01m}\u001b[39;00m\u001b[33m not in index\u001b[39m\u001b[33m\"\u001b[39m)\n",
      "\u001b[31mKeyError\u001b[39m: \"['Total_Energy'] not in index\""
     ]
    }
   ],
   "source": [
    "data = pd.read_csv('Final_dataset.csv')\n",
    "\n",
    "# --- Feature and Target Selection ---\n",
    "TARGET_PROPERTIES = ['Totel_Energy', 'E_tet', 'E_oct', 'E_a', 'OCV']\n",
    "\n",
    "# Define all potential primary features based on column names\n",
    "PRIMARY_FEATURES = [\n",
    "    'Lattice_Constant_A', 'Lattice_Constant_B', 'Lattice_Constant_X',\n",
    "    'Ionic_Radii_A', 'Ionic_Radii_B', 'Ionic_Radii_X',\n",
    "    'EA_A', 'EA_B', 'EA_X',\n",
    "    'IP_A', 'IP_B', 'IP_X',\n",
    "    'r_s_A', 'r_s_B', 'r_s_X',\n",
    "    'r_p_A', 'r_p_B', 'r_p_X',\n",
    "    'r_d_A', 'r_d_B', 'r_d_X',\n",
    "    'HOMO_A', 'HOMO_B', 'HOMO_X',\n",
    "    'LUMO_A', 'LUMO_B', 'LUMO_X'\n",
    "]\n",
    "\n",
    "# Ensure all selected features exist in the dataframe after cleaning\n",
    "PRIMARY_FEATURES = [f for f in PRIMARY_FEATURES if f in data.columns]\n",
    "\n",
    "X = data[PRIMARY_FEATURES]\n",
    "y = data[TARGET_PROPERTIES]\n",
    "\n",
    "print(f\"\\nDataset prepared for Multi-Task Regression.\")\n",
    "print(f\"Number of samples: {len(data)}\")\n",
    "print(f\"Number of primary features: {len(X.columns)}\")\n",
    "print(f\"Number of target properties: {len(y.columns)}\")"
   ]
  },
  {
   "cell_type": "code",
   "execution_count": null,
   "id": "3014a342-43ae-4733-9ed6-678ce0185a55",
   "metadata": {},
   "outputs": [],
   "source": []
  },
  {
   "cell_type": "markdown",
   "id": "074b6936",
   "metadata": {},
   "source": [
    "## 2. Configure **pySISSO**\n",
    "The settings below mirror those used in the SISSO++ benchmark: depth = 2, operators = `add`, `sub`, `mul`, descriptor dimensionality up to 3, and Bayesian Information Criterion (BIC) for model selection."
   ]
  },
  {
   "cell_type": "code",
   "execution_count": null,
   "id": "f09c5559",
   "metadata": {},
   "outputs": [],
   "source": [
    "from pysisso import SISSORegressor\n",
    "\n",
    "config = {\n",
    "    'task_type': 'regression',\n",
    "    'depth': 2,\n",
    "    'op_rules': [ {'op': 'add'}, {'op': 'sub'}, {'op': 'mul'} ],\n",
    "    'interaction_only': False,\n",
    "    'max_D': 3,\n",
    "    'sis_sizes': [100, 50],\n",
    "    'search_strategy': 'sisso++',\n",
    "    'max_feat_cross_correlation': 0.95,\n",
    "    'loss': 'l2',\n",
    "    'alpha': 1e-5,\n",
    "    'selection_method': 'bic',\n",
    "    'cv': -1,\n",
    "    'fix_intercept': False,\n",
    "    'n_jobs': -1,\n",
    "    'random_state': 42\n",
    "}\n",
    "\n",
    "sisso = SISSORegressor(**config)"
   ]
  },
  {
   "cell_type": "markdown",
   "id": "aee7ed33",
   "metadata": {},
   "source": [
    "## 3. Run descriptor search"
   ]
  },
  {
   "cell_type": "code",
   "execution_count": null,
   "id": "aadc0a9b",
   "metadata": {},
   "outputs": [],
   "source": [
    "%%time\n",
    "sisso.fit(X, y)"
   ]
  },
  {
   "cell_type": "markdown",
   "id": "fb1a138c",
   "metadata": {},
   "source": [
    "### Best descriptor dimension"
   ]
  },
  {
   "cell_type": "code",
   "execution_count": null,
   "id": "83fe6ede",
   "metadata": {},
   "outputs": [],
   "source": [
    "print('Selected best descriptor dimension via BIC: D =', sisso.best_D_)"
   ]
  },
  {
   "cell_type": "markdown",
   "id": "6ab3f0d8",
   "metadata": {},
   "source": [
    "### Descriptor formulas for each dimension"
   ]
  },
  {
   "cell_type": "code",
   "execution_count": null,
   "id": "08159afc",
   "metadata": {},
   "outputs": [],
   "source": [
    "from pysisso import utils as sis_utils\n",
    "\n",
    "for D, model_info in sisso.models_by_dim_.items():\n",
    "    formula_str = sis_utils.print_descriptor_formula(\n",
    "        model_info['sym_features'], model_info.get('coef'),\n",
    "        sisso.task_type_, sisso.fix_intercept_,\n",
    "        target_name='ΔE (RS–ZB)',\n",
    "        clean_to_original_map=sisso.sym_clean_to_original_map_\n",
    "    )\n",
    "    print('\\n===== Descriptor (D={}) ====='.format(D))\n",
    "    print(formula_str)"
   ]
  },
  {
   "cell_type": "markdown",
   "id": "fe1a77e7",
   "metadata": {},
   "source": [
    "## 4. Evaluate descriptor performance"
   ]
  },
  {
   "cell_type": "code",
   "execution_count": null,
   "id": "35b9e2b9",
   "metadata": {},
   "outputs": [],
   "source": [
    "import numpy as np\n",
    "from sklearn.metrics import mean_squared_error, r2_score\n",
    "\n",
    "# Helper: transform X once (cached)\n",
    "phiX = sisso._transform_X(X)\n",
    "\n",
    "for D, model_info in sisso.models_by_dim_.items():\n",
    "    coef = model_info['coef'].flatten()\n",
    "    if sisso.fix_intercept_:\n",
    "        intercept = 0.0\n",
    "        weights = coef\n",
    "    else:\n",
    "        intercept, *weights = coef\n",
    "        weights = np.array(weights)\n",
    "    X_D = phiX[model_info['features']]\n",
    "    y_pred = intercept + X_D.values.dot(weights)\n",
    "    rmse = np.sqrt(mean_squared_error(y, y_pred))\n",
    "    r2 = r2_score(y, y_pred)\n",
    "    print(f'D={D} -> RMSE={rmse:.4f} eV, R^2={r2:.3f}')"
   ]
  },
  {
   "cell_type": "markdown",
   "id": "042acf23",
   "metadata": {},
   "source": [
    "## 5. Conclusion\n",
    "pySISSO successfully recovered interpretable low-dimensional descriptors that capture the stability trend between Rocksalt and Zincblende structures. Use the formulas and metrics above to compare with SISSO++ results."
   ]
  }
 ],
 "metadata": {
  "kernelspec": {
   "display_name": "Python 3 (ipykernel)",
   "language": "python",
   "name": "python3"
  },
  "language_info": {
   "codemirror_mode": {
    "name": "ipython",
    "version": 3
   },
   "file_extension": ".py",
   "mimetype": "text/x-python",
   "name": "python",
   "nbconvert_exporter": "python",
   "pygments_lexer": "ipython3",
   "version": "3.11.0"
  }
 },
 "nbformat": 4,
 "nbformat_minor": 5
}
