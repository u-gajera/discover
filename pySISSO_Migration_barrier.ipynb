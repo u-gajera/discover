{
 "cells": [
  {
   "cell_type": "markdown",
   "id": "e6dcecad",
   "metadata": {},
   "source": [
    "# Replicating SISSO++ Descriptor Discovery with **pySISSO**\n",
    "\n",
    "This notebook reproduces the descriptor discovery benchmark that compares Rocksalt (RS) and Zincblende (ZB) structural stability in 82 octet binary compounds, originally performed with **SISSO++**. Here we replicate the benchmark using the Python implementation **pySISSO**.\n",
    "\n",
    "**Requirements**  \n",
    "- `pysisso` (>=0.4) – `pip install pysisso`  \n",
    "- `pandas`, `numpy`, `scikit-learn`, `nbformat` (common scientific stack)\n",
    "\n",
    "Place the dataset `benchmark_data.csv` in the same folder as this notebook or adjust the path below.\n"
   ]
  },
  {
   "cell_type": "markdown",
   "id": "b740bf0d",
   "metadata": {},
   "source": [
    "## 1. Load and inspect the dataset"
   ]
  },
  {
   "cell_type": "code",
   "execution_count": 3,
   "id": "09f698dd",
   "metadata": {},
   "outputs": [
    {
     "name": "stdout",
     "output_type": "stream",
     "text": [
      "✅ 'src' directory added to Python path. You can now import pysisso.\n"
     ]
    }
   ],
   "source": [
    "import sys\n",
    "import os\n",
    "\n",
    "# Add the 'src' directory to the Python path\n",
    "# This tells Python where to look for the 'pysisso' module\n",
    "sys.path.insert(0, os.path.abspath('./src'))\n",
    "\n",
    "# Now your original imports will work\n",
    "import pandas as pd\n",
    "import numpy as np\n",
    "import matplotlib.pyplot as plt\n",
    "import warnings\n",
    "\n",
    "from pysisso import SISSORegressor\n",
    "\n",
    "# Set display options\n",
    "warnings.filterwarnings('ignore')\n",
    "pd.set_option('display.max_rows', 100)\n",
    "%matplotlib inline\n",
    "\n",
    "print(\"✅ 'src' directory added to Python path. You can now import pysisso.\")"
   ]
  },
  {
   "cell_type": "markdown",
   "id": "4f9f954d",
   "metadata": {},
   "source": [
    "### Define target and feature columns"
   ]
  },
  {
   "cell_type": "code",
   "execution_count": 5,
   "id": "6a2411e0",
   "metadata": {},
   "outputs": [
    {
     "name": "stdout",
     "output_type": "stream",
     "text": [
      "\n",
      "Dataset prepared for Multi-Task Regression.\n",
      "Number of samples: 765\n",
      "Number of primary features: 27\n",
      "Number of target properties: 5\n"
     ]
    }
   ],
   "source": [
    "data = pd.read_csv('Final_dataset.csv')\n",
    "\n",
    "# --- Feature and Target Selection ---\n",
    "TARGET_PROPERTIES = ['Totel_Energy', 'E_tet', 'E_oct', 'E_a', 'OCV']\n",
    "\n",
    "# Define all potential primary features based on column names\n",
    "PRIMARY_FEATURES = [\n",
    "    'Lattice_Constant_A', 'Lattice_Constant_B', 'Lattice_Constant_X',\n",
    "    'Ionic_Radii_A', 'Ionic_Radii_B', 'Ionic_Radii_X',\n",
    "    'EA_A', 'EA_B', 'EA_X',\n",
    "    'IP_A', 'IP_B', 'IP_X',\n",
    "    'r_s_A', 'r_s_B', 'r_s_X',\n",
    "    'r_p_A', 'r_p_B', 'r_p_X',\n",
    "    'r_d_A', 'r_d_B', 'r_d_X',\n",
    "    'HOMO_A', 'HOMO_B', 'HOMO_X',\n",
    "    'LUMO_A', 'LUMO_B', 'LUMO_X'\n",
    "]\n",
    "\n",
    "# Ensure all selected features exist in the dataframe after cleaning\n",
    "PRIMARY_FEATURES = [f for f in PRIMARY_FEATURES if f in data.columns]\n",
    "\n",
    "X = data[PRIMARY_FEATURES]\n",
    "y = data[TARGET_PROPERTIES]\n",
    "\n",
    "print(f\"\\nDataset prepared for Multi-Task Regression.\")\n",
    "print(f\"Number of samples: {len(data)}\")\n",
    "print(f\"Number of primary features: {len(X.columns)}\")\n",
    "print(f\"Number of target properties: {len(y.columns)}\")"
   ]
  },
  {
   "cell_type": "code",
   "execution_count": null,
   "id": "3014a342-43ae-4733-9ed6-678ce0185a55",
   "metadata": {},
   "outputs": [],
   "source": []
  },
  {
   "cell_type": "markdown",
   "id": "074b6936",
   "metadata": {},
   "source": [
    "## 2. Configure **pySISSO**\n",
    "The settings below mirror those used in the SISSO++ benchmark: depth = 2, operators = `add`, `sub`, `mul`, descriptor dimensionality up to 3, and Bayesian Information Criterion (BIC) for model selection."
   ]
  },
  {
   "cell_type": "code",
   "execution_count": 6,
   "id": "f09c5559",
   "metadata": {},
   "outputs": [],
   "source": [
    "from pysisso import SISSORegressor\n",
    "\n",
    "config = {\n",
    "    'task_type': 'regression',\n",
    "    'depth': 2,\n",
    "    'op_rules': [ {'op': 'add'}, {'op': 'sub'}, {'op': 'mul'} ],\n",
    "    'interaction_only': False,\n",
    "    'max_D': 3,\n",
    "    'sis_sizes': [100, 50],\n",
    "    'search_strategy': 'sisso++',\n",
    "    'max_feat_cross_correlation': 0.95,\n",
    "    'loss': 'l2',\n",
    "    'alpha': 1e-5,\n",
    "    'selection_method': 'bic',\n",
    "    'cv': -1,\n",
    "    'fix_intercept': False,\n",
    "    'n_jobs': -1,\n",
    "    'random_state': 42\n",
    "}\n",
    "\n",
    "sisso = SISSORegressor(**config)"
   ]
  },
  {
   "cell_type": "markdown",
   "id": "aee7ed33",
   "metadata": {},
   "source": [
    "## 3. Run descriptor search"
   ]
  },
  {
   "cell_type": "code",
   "execution_count": 7,
   "id": "aadc0a9b",
   "metadata": {},
   "outputs": [
    {
     "name": "stdout",
     "output_type": "stream",
     "text": [
      "\n",
      "=========================\n",
      "--- STARTING ITERATIVE FEATURE GENERATION & SCREENING ---\n",
      "=========================\n",
      "\n",
      "Starting iterative feature generation on CPU to depth 2...\n",
      "  Keeping top 100 features per iteration.\n",
      "\n",
      "  Depth 1: Generating new features...\n",
      "    Generated 630 new unique features. Total candidates: 657\n",
      "  Screening and pruning 657 candidates...\n",
      "Running SIS to screen 657 features...\n",
      "  Using average correlation for multi-task screening.\n",
      "  CPU SIS screening complete. Top feature: '(Ionic_Radii_X-r_s_B)'\n",
      "    Pruned feature space to 100 candidates.\n",
      "\n",
      "  Depth 2: Generating new features...\n",
      "    Generated 9449 new unique features. Total candidates: 9549\n",
      "  Screening and pruning 9549 candidates...\n",
      "Running SIS to screen 9549 features...\n",
      "  Using average correlation for multi-task screening.\n",
      "  CPU SIS screening complete. Top feature: '((r_s_B-Ionic_Radii_B)-(r_s_X*r_s_X))'\n",
      "    Pruned feature space to 100 candidates.\n",
      "\n",
      "Iterative feature generation complete.\n",
      "\n",
      "Final feature space size after iterative screening: 100\n",
      "\n",
      "==================== Starting SISSO++ (Breadth-First QR) Search ====================\n",
      "  Using CPU (NumPy) backend for SISSO++ search.\n",
      "  Pruning feature space with correlation threshold > 0.95...\n",
      "    Removed 99 features due to high cross-correlation. Kept 1.\n",
      "INFO: For 'sisso++' multitask, using sum of OLS-RSS across all targets as a proxy for search.\n",
      "\n",
      "--- SISSO++ Search: Dimension 1 ---\n",
      "  No valid 1D models found. Stopping.\n"
     ]
    },
    {
     "ename": "RuntimeError",
     "evalue": "L0 search found no models from the iteratively generated feature space.",
     "output_type": "error",
     "traceback": [
      "\u001b[31m---------------------------------------------------------------------------\u001b[39m",
      "\u001b[31mRuntimeError\u001b[39m                              Traceback (most recent call last)",
      "\u001b[36mFile \u001b[39m\u001b[32m<timed eval>:1\u001b[39m\n",
      "\u001b[36mFile \u001b[39m\u001b[32m~/projects/pySISSO/src/pysisso/models.py:374\u001b[39m, in \u001b[36mSISSOBase.fit\u001b[39m\u001b[34m(self, X, y, sample_weight)\u001b[39m\n\u001b[32m    371\u001b[39m     \u001b[38;5;28mself\u001b[39m.timing_summary_[\u001b[33m'\u001b[39m\u001b[33mGreedy Search\u001b[39m\u001b[33m'\u001b[39m] = time.time() - t_start_search\n\u001b[32m    373\u001b[39m \u001b[38;5;28;01mif\u001b[39;00m \u001b[38;5;129;01mnot\u001b[39;00m search_results:\n\u001b[32m--> \u001b[39m\u001b[32m374\u001b[39m     \u001b[38;5;28;01mraise\u001b[39;00m \u001b[38;5;167;01mRuntimeError\u001b[39;00m(\u001b[33m\"\u001b[39m\u001b[33mL0 search found no models from the iteratively generated feature space.\u001b[39m\u001b[33m\"\u001b[39m)\n\u001b[32m    376\u001b[39m \u001b[38;5;28mself\u001b[39m.models_by_dim_ = {}\n\u001b[32m    377\u001b[39m \u001b[38;5;28;01mif\u001b[39;00m \u001b[38;5;28mself\u001b[39m.parametric_ops \u001b[38;5;129;01mand\u001b[39;00m \u001b[38;5;28mself\u001b[39m.task_type_ == REGRESSION:\n",
      "\u001b[31mRuntimeError\u001b[39m: L0 search found no models from the iteratively generated feature space."
     ]
    }
   ],
   "source": [
    "%%time\n",
    "sisso.fit(X, y)"
   ]
  },
  {
   "cell_type": "markdown",
   "id": "fb1a138c",
   "metadata": {},
   "source": [
    "### Best descriptor dimension"
   ]
  },
  {
   "cell_type": "code",
   "execution_count": null,
   "id": "83fe6ede",
   "metadata": {},
   "outputs": [],
   "source": [
    "print('Selected best descriptor dimension via BIC: D =', sisso.best_D_)"
   ]
  },
  {
   "cell_type": "markdown",
   "id": "6ab3f0d8",
   "metadata": {},
   "source": [
    "### Descriptor formulas for each dimension"
   ]
  },
  {
   "cell_type": "code",
   "execution_count": null,
   "id": "08159afc",
   "metadata": {},
   "outputs": [],
   "source": [
    "from pysisso import utils as sis_utils\n",
    "\n",
    "for D, model_info in sisso.models_by_dim_.items():\n",
    "    formula_str = sis_utils.print_descriptor_formula(\n",
    "        model_info['sym_features'], model_info.get('coef'),\n",
    "        sisso.task_type_, sisso.fix_intercept_,\n",
    "        target_name='ΔE (RS–ZB)',\n",
    "        clean_to_original_map=sisso.sym_clean_to_original_map_\n",
    "    )\n",
    "    print('\\n===== Descriptor (D={}) ====='.format(D))\n",
    "    print(formula_str)"
   ]
  },
  {
   "cell_type": "markdown",
   "id": "fe1a77e7",
   "metadata": {},
   "source": [
    "## 4. Evaluate descriptor performance"
   ]
  },
  {
   "cell_type": "code",
   "execution_count": null,
   "id": "35b9e2b9",
   "metadata": {},
   "outputs": [],
   "source": [
    "import numpy as np\n",
    "from sklearn.metrics import mean_squared_error, r2_score\n",
    "\n",
    "# Helper: transform X once (cached)\n",
    "phiX = sisso._transform_X(X)\n",
    "\n",
    "for D, model_info in sisso.models_by_dim_.items():\n",
    "    coef = model_info['coef'].flatten()\n",
    "    if sisso.fix_intercept_:\n",
    "        intercept = 0.0\n",
    "        weights = coef\n",
    "    else:\n",
    "        intercept, *weights = coef\n",
    "        weights = np.array(weights)\n",
    "    X_D = phiX[model_info['features']]\n",
    "    y_pred = intercept + X_D.values.dot(weights)\n",
    "    rmse = np.sqrt(mean_squared_error(y, y_pred))\n",
    "    r2 = r2_score(y, y_pred)\n",
    "    print(f'D={D} -> RMSE={rmse:.4f} eV, R^2={r2:.3f}')"
   ]
  },
  {
   "cell_type": "markdown",
   "id": "042acf23",
   "metadata": {},
   "source": [
    "## 5. Conclusion\n",
    "pySISSO successfully recovered interpretable low-dimensional descriptors that capture the stability trend between Rocksalt and Zincblende structures. Use the formulas and metrics above to compare with SISSO++ results."
   ]
  }
 ],
 "metadata": {
  "kernelspec": {
   "display_name": "Python 3 (ipykernel)",
   "language": "python",
   "name": "python3"
  },
  "language_info": {
   "codemirror_mode": {
    "name": "ipython",
    "version": 3
   },
   "file_extension": ".py",
   "mimetype": "text/x-python",
   "name": "python",
   "nbconvert_exporter": "python",
   "pygments_lexer": "ipython3",
   "version": "3.11.0"
  }
 },
 "nbformat": 4,
 "nbformat_minor": 5
}
